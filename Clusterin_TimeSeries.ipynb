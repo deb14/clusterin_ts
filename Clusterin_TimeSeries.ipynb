{
 "cells": [
  {
   "cell_type": "code",
   "execution_count": null,
   "metadata": {},
   "outputs": [],
   "source": [
    "import pandas as pd\n",
    "pd.set_option('display.max.columns',1000)\n",
    "pd.set_option('display.max.rows',1300)"
   ]
  },
  {
   "cell_type": "code",
   "execution_count": null,
   "metadata": {},
   "outputs": [],
   "source": [
    "df_1 = pd.read_csv(\"./.csv\")\n",
    "df_2 = pd.read_csv(\"./.csv\")"
   ]
  },
  {
   "cell_type": "code",
   "execution_count": null,
   "metadata": {},
   "outputs": [],
   "source": [
    "df_1.timecol = pd.to_datetime(df_1.timecol,unit='s')\n",
    "df_2.timecol = pd.to_datetime(df_2.timecol)\n",
    "# \n",
    "df_1['hr']= df_1.timecol.dt.hour\n",
    "df_1['min']= df_1.timecol.dt.minute\n",
    "df_2['hr']= df_2.timecol.dt.hour\n",
    "df_2['mins']= df_2.timecol.dt.minute\n",
    "df_2['date']= df_2.timecol.dt.date\n",
    "df_2['hr_min']= (df_2.hr/10).astype(str)+'_'+(df_2.mins/10).astype(str)"
   ]
  },
  {
   "cell_type": "code",
   "execution_count": null,
   "metadata": {},
   "outputs": [],
   "source": [
    "df_pv = df_2.reset_index().groupby(['date', 'hr_min'])['value'].aggregate('first').unstack()"
   ]
  },
  {
   "cell_type": "code",
   "execution_count": null,
   "metadata": {},
   "outputs": [],
   "source": [
    "col_name_meged = sorted(df_pv.columns)\n",
    "col_name_min = list(range(0,288,1))\n",
    "col_map = dict(zip(col_name_meged,col_name_min))"
   ]
  },
  {
   "cell_type": "code",
   "execution_count": null,
   "metadata": {},
   "outputs": [],
   "source": [
    "df_pv.rename(columns=col_map,inplace=True)"
   ]
  },
  {
   "cell_type": "code",
   "execution_count": null,
   "metadata": {},
   "outputs": [],
   "source": [
    "df_pv.rolling(10).mean()"
   ]
  },
  {
   "cell_type": "code",
   "execution_count": null,
   "metadata": {},
   "outputs": [],
   "source": [
    "1273-1084"
   ]
  },
  {
   "cell_type": "code",
   "execution_count": null,
   "metadata": {},
   "outputs": [],
   "source": [
    "df_2.reset_index().groupby(['date', 'hr_min'])['value'].aggregate('std').unstack()"
   ]
  },
  {
   "cell_type": "code",
   "execution_count": null,
   "metadata": {},
   "outputs": [],
   "source": [
    "df_2.reset_index().groupby(['date', 'hr'])['value'].aggregate('mean').unstack()"
   ]
  },
  {
   "cell_type": "code",
   "execution_count": null,
   "metadata": {},
   "outputs": [],
   "source": []
  }
 ],
 "metadata": {
  "kernelspec": {
   "display_name": "Python 3",
   "language": "python",
   "name": "python3"
  },
  "language_info": {
   "codemirror_mode": {
    "name": "ipython",
    "version": 3
   },
   "file_extension": ".py",
   "mimetype": "text/x-python",
   "name": "python",
   "nbconvert_exporter": "python",
   "pygments_lexer": "ipython3",
   "version": "3.6.9"
  }
 },
 "nbformat": 4,
 "nbformat_minor": 2
}
